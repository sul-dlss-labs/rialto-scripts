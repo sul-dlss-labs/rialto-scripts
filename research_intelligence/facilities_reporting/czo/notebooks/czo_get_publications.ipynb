{
 "cells": [
  {
   "cell_type": "markdown",
   "id": "correct-public",
   "metadata": {},
   "source": [
    "## Introduction\n",
    "\n",
    "The current input we have that can be used for querying for CZO publications is a csv file with 125 award numbers, CZO site names, and variations of 'Critical Zone Observatory'. The results returned from the award numbers, some site names, and some variants of 'Critical Zone Observatory' are fairly precise. Some site names are quite generic, however, and they return too many results. Dimensions only returns the first 1000 results. We need to see if we can reduce the noise in the search layer so that the 1000 returned are\n",
    "more likely to be relevant. "
   ]
  },
  {
   "cell_type": "markdown",
   "id": "expensive-chest",
   "metadata": {},
   "source": [
    "## Dependencies"
   ]
  },
  {
   "cell_type": "code",
   "execution_count": 3,
   "id": "close-productivity",
   "metadata": {},
   "outputs": [],
   "source": [
    "import dimcli, itertools, json, requests, sys\n",
    "import matplotlib.pyplot as plt\n",
    "from matplotlib_venn import venn2, venn2_circles\n",
    "import pandas as pd\n",
    "from datetime import datetime\n",
    "from dimcli.utils import *\n",
    "from requests.auth import AuthBase\n",
    "# Need to add to the path to import local files\n",
    "sys.path.insert(1, '../../../')\n",
    "import helper\n",
    "sys.path.insert(1, '../../../../')\n",
    "import config "
   ]
  },
  {
   "cell_type": "markdown",
   "id": "thick-hudson",
   "metadata": {},
   "source": [
    "## Query Terms"
   ]
  },
  {
   "cell_type": "code",
   "execution_count": 2,
   "id": "italic-findings",
   "metadata": {},
   "outputs": [],
   "source": [
    "input = pd.read_csv('../data/award_numbers_input.csv', header=0)\n",
    "\n",
    "# Get the award numbers from the df\n",
    "awards = input['AwardNumber']\n",
    "\n",
    "# Site names to search\n",
    "search_terms = ['Boulder Creek', 'Calhoun', 'Santa Catalina Mountains', 'Jemez River Basin', 'Christina River Basin', 'Eel River', 'Intensively Managed Landscapes', 'Luquillo', 'Reynolds Creek', 'Susquehanna Shale Hills', 'Southern Sierra', 'CZO', 'Critical Zone Observatory']\n"
   ]
  },
  {
   "cell_type": "markdown",
   "id": "micro-foundation",
   "metadata": {},
   "source": [
    "## Intervention"
   ]
  },
  {
   "cell_type": "markdown",
   "id": "analyzed-gothic",
   "metadata": {},
   "source": [
    "The thing we hope to learn is whether filtering search terms by research category will improve the quality of the returned results. "
   ]
  },
  {
   "cell_type": "code",
   "execution_count": 3,
   "id": "upper-branch",
   "metadata": {},
   "outputs": [
    {
     "name": "stdout",
     "output_type": "stream",
     "text": [
      "\u001b[2mDimcli - Dimensions API Client (v0.9.1)\u001b[0m\n",
      "\u001b[2mConnected to: https://app.dimensions.ai - DSL v1.31\u001b[0m\n",
      "\u001b[2mMethod: manual login\u001b[0m\n"
     ]
    }
   ],
   "source": [
    "# Get Dimesnions publications\n",
    "# connect to the database\n",
    "dimcli.login(config.username, config.password, config.endpoint)\n",
    "dsl = dimcli.Dsl()\n",
    "\n",
    "csv_fields = [\"title\", \"authors\", \"dimensions_id\", \"doi\", \"doi_url\", \"publisher\", \"journal\", \"volume\", \"issue\", \"pages\", \"pub_year\", \"concepts\", \"concepts_scores\", \"category_bra\", \"category_for\", \"provenance\", \"query_term\", \"pub_harvested_date\"]\n",
    "dimensions = pd.DataFrame(columns=csv_fields)"
   ]
  },
  {
   "cell_type": "markdown",
   "id": "executive-motorcycle",
   "metadata": {},
   "source": [
    "### Query all terms without categories"
   ]
  },
  {
   "cell_type": "code",
   "execution_count": 5,
   "id": "distant-oriental",
   "metadata": {},
   "outputs": [
    {
     "data": {
      "text/plain": [
       "'There are 41435 publicaitons.'"
      ]
     },
     "execution_count": 5,
     "metadata": {},
     "output_type": "execute_result"
    }
   ],
   "source": [
    "results_wo_category = pd.read_csv('../data/search_results_without_categories.csv', header=0)\n",
    "f\"There are {results_wo_category.shape[0]} publicaitons.\""
   ]
  },
  {
   "cell_type": "markdown",
   "id": "third-journal",
   "metadata": {},
   "source": [
    "There is room to improve the recall slightly by adding more publications. For some query terms there are more than 5,000 results (the maximum we have returned for any given term). However, Dimensions has a cap of 50,000 results. In order to expand beyond that we need to construct separate queries and merge the results. Since this adds to the complexity of the algorithm, it is not desirable. "
   ]
  },
  {
   "cell_type": "code",
   "execution_count": 6,
   "id": "worth-cassette",
   "metadata": {},
   "outputs": [
    {
     "data": {
      "text/plain": [
       "'After duplicates are removed, there are 36330 publicaitons remaining.'"
      ]
     },
     "execution_count": 6,
     "metadata": {},
     "output_type": "execute_result"
    }
   ],
   "source": [
    "# Some publicaitons may have multiple search terms which means they will appear multiple times.\n",
    "# Lets remove the duplicates.\n",
    "results_wo_category.drop_duplicates(subset='doi', keep='first', inplace=True)\n",
    "f\"After duplicates are removed, there are {results_wo_category.shape[0]} publicaitons remaining.\""
   ]
  },
  {
   "cell_type": "code",
   "execution_count": 7,
   "id": "spectacular-trinity",
   "metadata": {},
   "outputs": [],
   "source": [
    "# Load the reported publicaitons\n",
    "reported_pubs = pd.read_csv('../data/reported_publications.csv')"
   ]
  },
  {
   "cell_type": "code",
   "execution_count": 8,
   "id": "sophisticated-performance",
   "metadata": {},
   "outputs": [
    {
     "name": "stdout",
     "output_type": "stream",
     "text": [
      "Total: 36600\n"
     ]
    },
    {
     "data": {
      "image/png": "[encoded data removed]",
      "text/plain": [
       "<Figure size 432x288 with 1 Axes>"
      ]
     },
     "metadata": {},
     "output_type": "display_data"
    },
    {
     "name": "stdout",
     "output_type": "stream",
     "text": [
      "Precision: 0.02\n",
      "Recall: 0.75\n"
     ]
    }
   ],
   "source": [
    "helper.plot_venn(reported_pubs['doi'], results_wo_category['doi'], 'Reported Publication', 'Search Results (Before Intervention)')"
   ]
  },
  {
   "cell_type": "markdown",
   "id": "effective-fleece",
   "metadata": {},
   "source": [
    "### Query all terms and filter out results from outside categories"
   ]
  },
  {
   "cell_type": "code",
   "execution_count": 16,
   "id": "relevant-youth",
   "metadata": {},
   "outputs": [
    {
     "data": {
      "text/plain": [
       "'There are 72853 publicaitons.'"
      ]
     },
     "execution_count": 16,
     "metadata": {},
     "output_type": "execute_result"
    }
   ],
   "source": [
    "results_w_category = pd.read_csv('../data/search_results_with_categories.csv', header=0)\n",
    "results_w_category.columns = [\"title\", \"authors\", \"dimensions_id\", \"doi\", \"doi_url\", \"publisher\", \"journal\", \"volume\", \"issue\", \"pages\", \"pub_year\", \"concepts\", \"concepts_scores\", \"category_bra\", \"category_for\", \"provenance\", \"query_term\", \"pub_harvested_date\"]\n",
    "f\"There are {results_w_category.shape[0]} publicaitons.\""
   ]
  },
  {
   "cell_type": "code",
   "execution_count": 17,
   "id": "subtle-citizen",
   "metadata": {},
   "outputs": [
    {
     "data": {
      "text/html": [
       "<div>\n",
       "<style scoped>\n",
       "    .dataframe tbody tr th:only-of-type {\n",
       "        vertical-align: middle;\n",
       "    }\n",
       "\n",
       "    .dataframe tbody tr th {\n",
       "        vertical-align: top;\n",
       "    }\n",
       "\n",
       "    .dataframe thead th {\n",
       "        text-align: right;\n",
       "    }\n",
       "</style>\n",
       "<table border=\"1\" class=\"dataframe\">\n",
       "  <thead>\n",
       "    <tr style=\"text-align: right;\">\n",
       "      <th></th>\n",
       "      <th>title</th>\n",
       "      <th>authors</th>\n",
       "      <th>dimensions_id</th>\n",
       "      <th>doi</th>\n",
       "      <th>doi_url</th>\n",
       "      <th>publisher</th>\n",
       "      <th>journal</th>\n",
       "      <th>volume</th>\n",
       "      <th>issue</th>\n",
       "      <th>pages</th>\n",
       "      <th>pub_year</th>\n",
       "      <th>concepts</th>\n",
       "      <th>concepts_scores</th>\n",
       "      <th>category_bra</th>\n",
       "      <th>category_for</th>\n",
       "      <th>provenance</th>\n",
       "      <th>query_term</th>\n",
       "      <th>pub_harvested_date</th>\n",
       "    </tr>\n",
       "  </thead>\n",
       "  <tbody>\n",
       "    <tr>\n",
       "      <th>0</th>\n",
       "      <td>Soil structure and soil moisture dynamics infe...</td>\n",
       "      <td>[{'raw_affiliation': ['Olson Engineering, Unit...</td>\n",
       "      <td>pub.1139611447</td>\n",
       "      <td>10.1016/j.catena.2021.105553</td>\n",
       "      <td>https://doi.org/10.1016/j.catena.2021.105553</td>\n",
       "      <td>Elsevier</td>\n",
       "      <td>{'id': 'jour.1137268', 'title': 'Catena'}</td>\n",
       "      <td>207</td>\n",
       "      <td>NaN</td>\n",
       "      <td>105553</td>\n",
       "      <td>2021.0</td>\n",
       "      <td>['preferential flow paths', 'pedogenic calcium...</td>\n",
       "      <td>[{'concept': 'preferential flow paths', 'relev...</td>\n",
       "      <td>NaN</td>\n",
       "      <td>['0503 Soil Sciences', '04 Earth Sciences', '0...</td>\n",
       "      <td>dimensions</td>\n",
       "      <td>CZO</td>\n",
       "      <td>13/09/2021 14:42:08</td>\n",
       "    </tr>\n",
       "    <tr>\n",
       "      <th>1</th>\n",
       "      <td>A room-temperature aniline sensor based on Ce ...</td>\n",
       "      <td>[{'raw_affiliation': ['College of Materials an...</td>\n",
       "      <td>pub.1139215192</td>\n",
       "      <td>10.1016/j.jallcom.2021.160988</td>\n",
       "      <td>https://doi.org/10.1016/j.jallcom.2021.160988</td>\n",
       "      <td>Elsevier</td>\n",
       "      <td>{'id': 'jour.1041821', 'title': 'Journal of Al...</td>\n",
       "      <td>885</td>\n",
       "      <td>NaN</td>\n",
       "      <td>160988</td>\n",
       "      <td>2021.0</td>\n",
       "      <td>['semiconductor metal oxides', 'abundant oxyge...</td>\n",
       "      <td>[{'concept': 'semiconductor metal oxides', 're...</td>\n",
       "      <td>NaN</td>\n",
       "      <td>['0912 Materials Engineering', '09 Engineering']</td>\n",
       "      <td>dimensions</td>\n",
       "      <td>CZO</td>\n",
       "      <td>13/09/2021 14:42:08</td>\n",
       "    </tr>\n",
       "    <tr>\n",
       "      <th>2</th>\n",
       "      <td>Preservation of granulite in a partially eclog...</td>\n",
       "      <td>[{'raw_affiliation': ['Institut für Mineralogi...</td>\n",
       "      <td>pub.1140279759</td>\n",
       "      <td>10.1016/j.lithos.2021.106413</td>\n",
       "      <td>https://doi.org/10.1016/j.lithos.2021.106413</td>\n",
       "      <td>Elsevier</td>\n",
       "      <td>{'id': 'jour.1052490', 'title': 'Lithos'}</td>\n",
       "      <td>400</td>\n",
       "      <td>NaN</td>\n",
       "      <td>106413</td>\n",
       "      <td>2021.0</td>\n",
       "      <td>['Bergen Arcs', 'transition zone', 'hand-speci...</td>\n",
       "      <td>[{'concept': 'Bergen Arcs', 'relevance': 0.535...</td>\n",
       "      <td>NaN</td>\n",
       "      <td>['04 Earth Sciences', '0403 Geology']</td>\n",
       "      <td>dimensions</td>\n",
       "      <td>CZO</td>\n",
       "      <td>13/09/2021 14:42:08</td>\n",
       "    </tr>\n",
       "    <tr>\n",
       "      <th>3</th>\n",
       "      <td>Effect of characteristic component on diesel s...</td>\n",
       "      <td>[{'raw_affiliation': ['State Key Laboratory of...</td>\n",
       "      <td>pub.1139981530</td>\n",
       "      <td>10.1016/j.fuel.2021.121306</td>\n",
       "      <td>https://doi.org/10.1016/j.fuel.2021.121306</td>\n",
       "      <td>Elsevier</td>\n",
       "      <td>{'id': 'jour.1044923', 'title': 'Fuel'}</td>\n",
       "      <td>303</td>\n",
       "      <td>NaN</td>\n",
       "      <td>121306</td>\n",
       "      <td>2021.0</td>\n",
       "      <td>['diesel steam reforming', 'Ni-Rh', 'steam ref...</td>\n",
       "      <td>[{'concept': 'diesel steam reforming', 'releva...</td>\n",
       "      <td>NaN</td>\n",
       "      <td>['03 Chemical Sciences', '0306 Physical Chemis...</td>\n",
       "      <td>dimensions</td>\n",
       "      <td>CZO</td>\n",
       "      <td>13/09/2021 14:42:08</td>\n",
       "    </tr>\n",
       "    <tr>\n",
       "      <th>4</th>\n",
       "      <td>U- and Th- series disequilibria in separated s...</td>\n",
       "      <td>[{'raw_affiliation': ['Institut Terre Environn...</td>\n",
       "      <td>pub.1139966236</td>\n",
       "      <td>10.1016/j.chemgeo.2021.120455</td>\n",
       "      <td>https://doi.org/10.1016/j.chemgeo.2021.120455</td>\n",
       "      <td>Elsevier</td>\n",
       "      <td>{'id': 'jour.1026405', 'title': 'Chemical Geol...</td>\n",
       "      <td>583</td>\n",
       "      <td>NaN</td>\n",
       "      <td>120455</td>\n",
       "      <td>2021.0</td>\n",
       "      <td>['Fe-oxides', 'bulk soil scale', 'shallow soil...</td>\n",
       "      <td>[{'concept': 'Fe-oxides', 'relevance': 0.458},...</td>\n",
       "      <td>NaN</td>\n",
       "      <td>['0406 Physical Geography and Environmental Ge...</td>\n",
       "      <td>dimensions</td>\n",
       "      <td>CZO</td>\n",
       "      <td>13/09/2021 14:42:08</td>\n",
       "    </tr>\n",
       "  </tbody>\n",
       "</table>\n",
       "</div>"
      ],
      "text/plain": [
       "                                               title  \\\n",
       "0  Soil structure and soil moisture dynamics infe...   \n",
       "1  A room-temperature aniline sensor based on Ce ...   \n",
       "2  Preservation of granulite in a partially eclog...   \n",
       "3  Effect of characteristic component on diesel s...   \n",
       "4  U- and Th- series disequilibria in separated s...   \n",
       "\n",
       "                                             authors   dimensions_id  \\\n",
       "0  [{'raw_affiliation': ['Olson Engineering, Unit...  pub.1139611447   \n",
       "1  [{'raw_affiliation': ['College of Materials an...  pub.1139215192   \n",
       "2  [{'raw_affiliation': ['Institut für Mineralogi...  pub.1140279759   \n",
       "3  [{'raw_affiliation': ['State Key Laboratory of...  pub.1139981530   \n",
       "4  [{'raw_affiliation': ['Institut Terre Environn...  pub.1139966236   \n",
       "\n",
       "                             doi  \\\n",
       "0   10.1016/j.catena.2021.105553   \n",
       "1  10.1016/j.jallcom.2021.160988   \n",
       "2   10.1016/j.lithos.2021.106413   \n",
       "3     10.1016/j.fuel.2021.121306   \n",
       "4  10.1016/j.chemgeo.2021.120455   \n",
       "\n",
       "                                         doi_url publisher  \\\n",
       "0   https://doi.org/10.1016/j.catena.2021.105553  Elsevier   \n",
       "1  https://doi.org/10.1016/j.jallcom.2021.160988  Elsevier   \n",
       "2   https://doi.org/10.1016/j.lithos.2021.106413  Elsevier   \n",
       "3     https://doi.org/10.1016/j.fuel.2021.121306  Elsevier   \n",
       "4  https://doi.org/10.1016/j.chemgeo.2021.120455  Elsevier   \n",
       "\n",
       "                                             journal volume issue   pages  \\\n",
       "0          {'id': 'jour.1137268', 'title': 'Catena'}    207   NaN  105553   \n",
       "1  {'id': 'jour.1041821', 'title': 'Journal of Al...    885   NaN  160988   \n",
       "2          {'id': 'jour.1052490', 'title': 'Lithos'}    400   NaN  106413   \n",
       "3            {'id': 'jour.1044923', 'title': 'Fuel'}    303   NaN  121306   \n",
       "4  {'id': 'jour.1026405', 'title': 'Chemical Geol...    583   NaN  120455   \n",
       "\n",
       "   pub_year                                           concepts  \\\n",
       "0    2021.0  ['preferential flow paths', 'pedogenic calcium...   \n",
       "1    2021.0  ['semiconductor metal oxides', 'abundant oxyge...   \n",
       "2    2021.0  ['Bergen Arcs', 'transition zone', 'hand-speci...   \n",
       "3    2021.0  ['diesel steam reforming', 'Ni-Rh', 'steam ref...   \n",
       "4    2021.0  ['Fe-oxides', 'bulk soil scale', 'shallow soil...   \n",
       "\n",
       "                                     concepts_scores category_bra  \\\n",
       "0  [{'concept': 'preferential flow paths', 'relev...          NaN   \n",
       "1  [{'concept': 'semiconductor metal oxides', 're...          NaN   \n",
       "2  [{'concept': 'Bergen Arcs', 'relevance': 0.535...          NaN   \n",
       "3  [{'concept': 'diesel steam reforming', 'releva...          NaN   \n",
       "4  [{'concept': 'Fe-oxides', 'relevance': 0.458},...          NaN   \n",
       "\n",
       "                                        category_for  provenance query_term  \\\n",
       "0  ['0503 Soil Sciences', '04 Earth Sciences', '0...  dimensions        CZO   \n",
       "1   ['0912 Materials Engineering', '09 Engineering']  dimensions        CZO   \n",
       "2              ['04 Earth Sciences', '0403 Geology']  dimensions        CZO   \n",
       "3  ['03 Chemical Sciences', '0306 Physical Chemis...  dimensions        CZO   \n",
       "4  ['0406 Physical Geography and Environmental Ge...  dimensions        CZO   \n",
       "\n",
       "    pub_harvested_date  \n",
       "0  13/09/2021 14:42:08  \n",
       "1  13/09/2021 14:42:08  \n",
       "2  13/09/2021 14:42:08  \n",
       "3  13/09/2021 14:42:08  \n",
       "4  13/09/2021 14:42:08  "
      ]
     },
     "execution_count": 17,
     "metadata": {},
     "output_type": "execute_result"
    }
   ],
   "source": [
    "results_w_category.head()"
   ]
  },
  {
   "cell_type": "code",
   "execution_count": 18,
   "id": "express-airfare",
   "metadata": {},
   "outputs": [
    {
     "data": {
      "text/plain": [
       "'After duplicates are removed, there are 68091 publicaitons remaining.'"
      ]
     },
     "execution_count": 18,
     "metadata": {},
     "output_type": "execute_result"
    }
   ],
   "source": [
    "# Some publicaitons may have multiple search terms which means they will appear multiple times.\n",
    "# Lets remove the duplicates.\n",
    "results_w_category.drop_duplicates(subset='doi', keep='first', inplace=True)\n",
    "f\"After duplicates are removed, there are {results_w_category.shape[0]} publicaitons remaining.\""
   ]
  },
  {
   "cell_type": "code",
   "execution_count": 19,
   "id": "useful-separation",
   "metadata": {},
   "outputs": [
    {
     "name": "stdout",
     "output_type": "stream",
     "text": [
      "Total: 68352\n"
     ]
    },
    {
     "data": {
      "image/png": "[encoded data removed]",
      "text/plain": [
       "<Figure size 432x288 with 1 Axes>"
      ]
     },
     "metadata": {},
     "output_type": "display_data"
    },
    {
     "name": "stdout",
     "output_type": "stream",
     "text": [
      "Precision: 0.01\n",
      "Recall: 0.76\n"
     ]
    }
   ],
   "source": [
    "helper.plot_venn(reported_pubs['doi'], results_w_category['doi'], 'Reported Publication', 'Search Results (After Intervention)')"
   ]
  },
  {
   "cell_type": "markdown",
   "id": "combined-judgment",
   "metadata": {},
   "source": [
    "Given that we want to report all research, we should aim maximize recall and try to clean up precision later. However,  a one percent increase in recall does not warrant a significant increase in labor. A final decision about which set to use can be made after trying to filter out the false positive results."
   ]
  },
  {
   "cell_type": "code",
   "execution_count": null,
   "id": "warming-civilian",
   "metadata": {},
   "outputs": [],
   "source": []
  }
 ],
 "metadata": {
  "kernelspec": {
   "display_name": "Python 3",
   "language": "python",
   "name": "python3"
  },
  "language_info": {
   "codemirror_mode": {
    "name": "ipython",
    "version": 3
   },
   "file_extension": ".py",
   "mimetype": "text/x-python",
   "name": "python",
   "nbconvert_exporter": "python",
   "pygments_lexer": "ipython3",
   "version": "3.7.10"
  },
  "toc": {
   "base_numbering": 1,
   "nav_menu": {},
   "number_sections": true,
   "sideBar": true,
   "skip_h1_title": false,
   "title_cell": "Table of Contents",
   "title_sidebar": "Contents",
   "toc_cell": false,
   "toc_position": {},
   "toc_section_display": true,
   "toc_window_display": false
  }
 },
 "nbformat": 4,
 "nbformat_minor": 5
}
