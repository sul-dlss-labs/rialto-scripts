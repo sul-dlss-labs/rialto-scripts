{
 "cells": [
  {
   "cell_type": "markdown",
   "id": "correct-public",
   "metadata": {},
   "source": [
    "## Introduction"
   ]
  },
  {
   "cell_type": "markdown",
   "id": "honest-costume",
   "metadata": {},
   "source": [
    "A common problem encountered when trying to collect a set of publications from multiple researchers (e.g. a network of researchers working on a similar topic or using a shared facility) is the manual labor required to identify and vet the publications. A typical work flow in carrying out this task is for one or more people to search for publications (e.g. in Google Scholar) and then manually inspect each one to determine relevance. The search component of this process can be automated but, depending on the input available (e.g. the search terms used in the query), it may return a significant number of false positives. The manual labor needed to vet each publication is still too high to be practical. Two questions that will be explored below are: How accurate are the automated searchers? and Can the manual labor needed to vet the publications be reduced?\n",
    "\n",
    "To explore these questions we will use a set of publications from the Critical Zone Observatory (CZO) website (https://czo-archive.criticalzone.org/reynolds/publications/). The DOIs for the publications were scraped from the sight and used to harvest clean publication records from Dimensions."
   ]
  },
  {
   "cell_type": "markdown",
   "id": "requested-artist",
   "metadata": {},
   "source": [
    "## Dependencies "
   ]
  },
  {
   "cell_type": "code",
   "execution_count": 3,
   "id": "close-productivity",
   "metadata": {},
   "outputs": [],
   "source": [
    "import csv, fasttext, math, os, random, sys\n",
    "import matplotlib.pyplot as plt\n",
    "import numpy as np\n",
    "import pandas as pd\n",
    "from IPython.display import Markdown, display\n",
    "from matplotlib_venn import venn2, venn2_circles\n",
    "# Need to add to the path to import local files\n",
    "sys.path.insert(1, '../../../')\n",
    "import helper\n",
    "sys.path.insert(1, '../../../../')\n",
    "import config"
   ]
  },
  {
   "cell_type": "markdown",
   "id": "bound-values",
   "metadata": {},
   "source": [
    "## Data"
   ]
  },
  {
   "cell_type": "code",
   "execution_count": 128,
   "id": "familiar-chocolate",
   "metadata": {},
   "outputs": [],
   "source": [
    "search_results = pd.read_csv('../data/train/not_relevant_publication.csv', header=0)"
   ]
  },
  {
   "cell_type": "code",
   "execution_count": 3,
   "id": "announced-involvement",
   "metadata": {},
   "outputs": [
    {
     "name": "stdout",
     "output_type": "stream",
     "text": [
      "Index(['Unnamed: 0', 'label', 'title', 'authors', 'dimensions_id', 'doi',\n",
      "       'doi_url', 'publisher', 'journal', 'volume', 'issue', 'pages',\n",
      "       'pub_year', 'concepts', 'concepts_scores', 'category_bra',\n",
      "       'category_for', 'provenance', 'pub_harvested_date'],\n",
      "      dtype='object')\n"
     ]
    }
   ],
   "source": [
    "print(search_results.columns)"
   ]
  },
  {
   "cell_type": "code",
   "execution_count": 4,
   "id": "completed-beginning",
   "metadata": {},
   "outputs": [
    {
     "name": "stdout",
     "output_type": "stream",
     "text": [
      "17914\n"
     ]
    }
   ],
   "source": [
    "with open('../data/train/train.txt', 'r') as f:\n",
    "    data = f.readlines()\n",
    "    example_count = len(data)\n",
    "    train_count = math.floor(example_count * .9)\n",
    "    print(train_count)\n",
    "\n",
    "with open('../data/train/train.train', 'w') as train:\n",
    "    for i in data[train_count:]:\n",
    "        train.write(i+'\\n')\n",
    "\n",
    "with open('../data/train/train.valid', 'w') as valid:\n",
    "    for i in data[:train_count]:\n",
    "        valid.write(i+'\\n')"
   ]
  },
  {
   "cell_type": "markdown",
   "id": "coral-agenda",
   "metadata": {},
   "source": [
    "## Intervention"
   ]
  },
  {
   "cell_type": "markdown",
   "id": "capital-chocolate",
   "metadata": {},
   "source": [
    "Lets train a FastText model on 90% of the data."
   ]
  },
  {
   "cell_type": "code",
   "execution_count": 5,
   "id": "russian-basin",
   "metadata": {},
   "outputs": [],
   "source": [
    "model = fasttext.train_supervised(input='../data/train/train.train')"
   ]
  },
  {
   "cell_type": "markdown",
   "id": "opposite-temple",
   "metadata": {},
   "source": [
    "Now lets evaluate the model on the remaining 10%."
   ]
  },
  {
   "cell_type": "code",
   "execution_count": 6,
   "id": "outstanding-health",
   "metadata": {},
   "outputs": [
    {
     "data": {
      "text/plain": [
       "(17914, 0.9464664508205872, 0.9464664508205872)"
      ]
     },
     "execution_count": 6,
     "metadata": {},
     "output_type": "execute_result"
    }
   ],
   "source": [
    "model.test('../data/train/train.valid')"
   ]
  },
  {
   "cell_type": "markdown",
   "id": "insured-championship",
   "metadata": {},
   "source": [
    "The outputs are the total number of publications (12,439), precision, and recall. Precision and recall are the same since there is only one label. With multiple labels, they would likely diverge. 95% is good. Its a decrease from the 98% achieved initially which is certainly due to the increased rigor behind gathering the training data; the trianing data is now harder because it includes publications that are more closely related. \n",
    "\n",
    "We should look at this as a proof of concept. It needs work before we can apply it in all instances where we need to collect a set of publications related to a shared facility or research network, but it is a promising start.\n",
    "\n",
    "Now lets fold the test data into our model and use it to predict the relevance of our search results."
   ]
  },
  {
   "cell_type": "code",
   "execution_count": 7,
   "id": "victorian-bouquet",
   "metadata": {},
   "outputs": [],
   "source": [
    "# Use all the training data we have\n",
    "with open('../data/train/train.final', 'w') as final:\n",
    "    for i in data:\n",
    "        final.write(i+'\\n')\n",
    "\n",
    "final_model = fasttext.train_supervised(input='../data/train/train.final')"
   ]
  },
  {
   "cell_type": "code",
   "execution_count": 8,
   "id": "accomplished-module",
   "metadata": {},
   "outputs": [],
   "source": [
    "def predict_relevance(features):\n",
    "    return str(final_model.predict(features)[0]).replace(\"'__label__\", '').replace(\"',\", '').replace('(', '').replace(')', '')"
   ]
  },
  {
   "cell_type": "code",
   "execution_count": 129,
   "id": "modular-durham",
   "metadata": {},
   "outputs": [],
   "source": [
    "search_results = pd.read_csv('../data/search_results_with_categories.csv', header=0)"
   ]
  },
  {
   "cell_type": "code",
   "execution_count": 130,
   "id": "soviet-equivalent",
   "metadata": {},
   "outputs": [
    {
     "data": {
      "text/plain": [
       "72854"
      ]
     },
     "execution_count": 130,
     "metadata": {},
     "output_type": "execute_result"
    }
   ],
   "source": [
    "search_results.shape[0]"
   ]
  },
  {
   "cell_type": "code",
   "execution_count": null,
   "id": "optical-shelf",
   "metadata": {},
   "outputs": [],
   "source": [
    "helper.plot_venn(reported_pubs['doi'], results_w_category['doi'], 'Reported Publication', 'Search Results (After Intervention)')"
   ]
  },
  {
   "cell_type": "code",
   "execution_count": 11,
   "id": "educated-sound",
   "metadata": {},
   "outputs": [
    {
     "data": {
      "text/plain": [
       "Index(['title', 'authors', 'dimensions_id', 'doi', 'doi_url', 'publisher',\n",
       "       'journal', 'volume', 'issue', 'pages', 'pub_year', 'concepts',\n",
       "       'concepts_scores', 'category_bra', 'category_for', 'provenance',\n",
       "       'query_term', 'pub_harvested_date'],\n",
       "      dtype='object')"
      ]
     },
     "execution_count": 11,
     "metadata": {},
     "output_type": "execute_result"
    }
   ],
   "source": [
    "search_results.columns\n"
   ]
  },
  {
   "cell_type": "code",
   "execution_count": 12,
   "id": "prospective-india",
   "metadata": {},
   "outputs": [],
   "source": [
    "search_results['concepts'].replace('', np.nan, inplace=True)\n",
    "search_results.dropna(subset=['concepts'], inplace=True)"
   ]
  },
  {
   "cell_type": "code",
   "execution_count": 13,
   "id": "maritime-reasoning",
   "metadata": {},
   "outputs": [
    {
     "data": {
      "text/plain": [
       "68909"
      ]
     },
     "execution_count": 13,
     "metadata": {},
     "output_type": "execute_result"
    }
   ],
   "source": [
    "search_results.shape[0]"
   ]
  },
  {
   "cell_type": "code",
   "execution_count": 14,
   "id": "forbidden-accuracy",
   "metadata": {},
   "outputs": [],
   "source": [
    "search_results['relevance'] = search_results.apply(lambda row : predict_relevance(str(row['concepts']).replace(\"['\", \"'\").replace(\"']\", \"'\").replace(\", \", \" \")), axis = 1)"
   ]
  },
  {
   "cell_type": "code",
   "execution_count": 15,
   "id": "clear-strip",
   "metadata": {},
   "outputs": [
    {
     "data": {
      "text/plain": [
       "0        not-relevant\n",
       "1            relevant\n",
       "2        not-relevant\n",
       "3        not-relevant\n",
       "4        not-relevant\n",
       "             ...     \n",
       "72849    not-relevant\n",
       "72850    not-relevant\n",
       "72851    not-relevant\n",
       "72852    not-relevant\n",
       "72853    not-relevant\n",
       "Name: relevance, Length: 68909, dtype: object"
      ]
     },
     "execution_count": 15,
     "metadata": {},
     "output_type": "execute_result"
    }
   ],
   "source": [
    "search_results['relevance']"
   ]
  },
  {
   "cell_type": "code",
   "execution_count": 16,
   "id": "twelve-clause",
   "metadata": {},
   "outputs": [],
   "source": [
    "# Remove non-relevant publicaitons from the dataframe\n",
    "search_results_filtered = search_results[~search_results.relevance.str.contains('not-relevant')]"
   ]
  },
  {
   "cell_type": "code",
   "execution_count": 17,
   "id": "induced-affairs",
   "metadata": {},
   "outputs": [
    {
     "data": {
      "text/plain": [
       "(68909, 19)"
      ]
     },
     "execution_count": 17,
     "metadata": {},
     "output_type": "execute_result"
    }
   ],
   "source": [
    "search_results.shape"
   ]
  },
  {
   "cell_type": "code",
   "execution_count": 18,
   "id": "adjusted-subsection",
   "metadata": {},
   "outputs": [
    {
     "data": {
      "text/plain": [
       "(9738, 19)"
      ]
     },
     "execution_count": 18,
     "metadata": {},
     "output_type": "execute_result"
    }
   ],
   "source": [
    "search_results_filtered.shape"
   ]
  },
  {
   "cell_type": "code",
   "execution_count": 4,
   "id": "geological-motel",
   "metadata": {},
   "outputs": [],
   "source": [
    "# Load the reported publicaitons\n",
    "reported_pubs = pd.read_csv('../data/reported_publications.csv')"
   ]
  },
  {
   "cell_type": "markdown",
   "id": "metropolitan-conversation",
   "metadata": {},
   "source": [
    "Lets examine the consistency of the Dimensions 'concepts' field. Since this is what we are using to predict relevance, publications missing this field will not have accurate predictions."
   ]
  },
  {
   "cell_type": "code",
   "execution_count": 5,
   "id": "latest-riding",
   "metadata": {},
   "outputs": [
    {
     "data": {
      "text/plain": [
       "1070"
      ]
     },
     "execution_count": 5,
     "metadata": {},
     "output_type": "execute_result"
    }
   ],
   "source": [
    "reported_pubs.shape[0]"
   ]
  },
  {
   "cell_type": "code",
   "execution_count": 6,
   "id": "sticky-george",
   "metadata": {},
   "outputs": [],
   "source": [
    "reported_pubs['concepts'].replace('', np.nan, inplace=True)\n",
    "reported_pubs.dropna(subset=['concepts'], inplace=True)"
   ]
  },
  {
   "cell_type": "code",
   "execution_count": 7,
   "id": "chief-fashion",
   "metadata": {},
   "outputs": [
    {
     "data": {
      "text/plain": [
       "1069"
      ]
     },
     "execution_count": 7,
     "metadata": {},
     "output_type": "execute_result"
    }
   ],
   "source": [
    "reported_pubs.shape[0]"
   ]
  },
  {
   "cell_type": "markdown",
   "id": "expected-scenario",
   "metadata": {},
   "source": [
    "Fortunately only 1 publication in this data set is missing the 'concepts' field."
   ]
  },
  {
   "cell_type": "markdown",
   "id": "pharmaceutical-senior",
   "metadata": {},
   "source": [
    "## Results & Discussion"
   ]
  },
  {
   "cell_type": "markdown",
   "id": "nasty-authority",
   "metadata": {},
   "source": [
    "Now lets plot our venn diagram again to see how well we did."
   ]
  },
  {
   "cell_type": "code",
   "execution_count": 132,
   "id": "worth-convertible",
   "metadata": {},
   "outputs": [
    {
     "name": "stdout",
     "output_type": "stream",
     "text": [
      "Total: 68353\n"
     ]
    },
    {
     "data": {
      "image/png": "[encoded data removed]",
      "text/plain": [
       "<Figure size 432x288 with 1 Axes>"
      ]
     },
     "metadata": {},
     "output_type": "display_data"
    },
    {
     "name": "stdout",
     "output_type": "stream",
     "text": [
      "Precision: 0.01\n",
      "Recall: 0.76\n"
     ]
    }
   ],
   "source": [
    "helper.plot_venn(reported_pubs['doi'], search_results['doi'], 'Reported Publication', 'Search Results (After Intervention)')"
   ]
  },
  {
   "cell_type": "code",
   "execution_count": 20,
   "id": "peaceful-singapore",
   "metadata": {},
   "outputs": [
    {
     "name": "stdout",
     "output_type": "stream",
     "text": [
      "Total: 7266\n"
     ]
    },
    {
     "data": {
      "image/png": "[encoded data removed]",
      "text/plain": [
       "<Figure size 432x288 with 1 Axes>"
      ]
     },
     "metadata": {},
     "output_type": "display_data"
    },
    {
     "name": "stdout",
     "output_type": "stream",
     "text": [
      "Precision: 0.1\n",
      "Recall: 0.65\n"
     ]
    }
   ],
   "source": [
    "helper.plot_venn(reported_pubs['doi'], search_results_filtered['doi'], 'Reported Publication', 'Search Results (After Intervention)')"
   ]
  },
  {
   "cell_type": "markdown",
   "id": "portuguese-laundry",
   "metadata": {},
   "source": [
    "Thats a lot of publications to review. Lets compare this to our initial results:"
   ]
  },
  {
   "cell_type": "markdown",
   "id": "diverse-hypothetical",
   "metadata": {},
   "source": [
    "Precision increased significantly but still not great but thats to be expected since we have optimized for maximum recall. Recall is 65% which is a significant increase from our previous score, which included only query terms with high correlation to the facility, of (35%), or (32%) after cleanup. However, its 11% lower than what was captured in the search results above. This is an area that we want to improve. Ideally we probably want to capture every publication possible and do the best we can to minimize the impact to the manual evaluation process."
   ]
  },
  {
   "cell_type": "code",
   "execution_count": 22,
   "id": "fleet-longer",
   "metadata": {},
   "outputs": [
    {
     "name": "stdout",
     "output_type": "stream",
     "text": [
      "6196\n"
     ]
    }
   ],
   "source": [
    "final_doi_set = set(search_results_filtered['doi']) - set(reported_pubs['doi'])\n",
    "print(len(final_doi_set))"
   ]
  },
  {
   "cell_type": "code",
   "execution_count": 26,
   "id": "falling-enforcement",
   "metadata": {},
   "outputs": [
    {
     "name": "stdout",
     "output_type": "stream",
     "text": [
      "6196\n"
     ]
    }
   ],
   "source": [
    "w = csv.writer(open(\"../data/search_resuts_filtered_dois.csv\",'w'))\n",
    "w.writerow(['doi'])\n",
    "print(len(final_doi_set))\n",
    "for i in final_doi_set:\n",
    "        w.writerow([i])"
   ]
  },
  {
   "cell_type": "markdown",
   "id": "upper-suffering",
   "metadata": {},
   "source": [
    "### Impact on Publicaiton Review Process"
   ]
  },
  {
   "cell_type": "markdown",
   "id": "interesting-return",
   "metadata": {},
   "source": [
    "6,196 publications is a lot to review but its important to note that these are spread out over a long period of time. Let's take a look at some of the implications of that fact. "
   ]
  },
  {
   "cell_type": "code",
   "execution_count": 79,
   "id": "tired-prerequisite",
   "metadata": {},
   "outputs": [
    {
     "name": "stdout",
     "output_type": "stream",
     "text": [
      "Date range of reported publications: 1993-2021\n"
     ]
    }
   ],
   "source": [
    "print(f'Date range of reported publications: {reported_pubs.pub_year.min()}-{reported_pubs.pub_year.max()}')"
   ]
  },
  {
   "cell_type": "markdown",
   "id": "bridal-stroke",
   "metadata": {},
   "source": [
    "The time range of the reported publications ranges from 1993 to 2021. Presumably we can clean up our dataset by filtering out publications with dates prior to 1993.\n",
    "\n",
    "Lets look at the most recent years to see how many publications per year would need manual review."
   ]
  },
  {
   "cell_type": "code",
   "execution_count": 53,
   "id": "noble-thriller",
   "metadata": {},
   "outputs": [
    {
     "data": {
      "text/plain": [
       "<AxesSubplot:>"
      ]
     },
     "execution_count": 53,
     "metadata": {},
     "output_type": "execute_result"
    },
    {
     "data": {
      "image/png": "[encoded data removed]",
      "text/plain": [
       "<Figure size 432x288 with 1 Axes>"
      ]
     },
     "metadata": {
      "needs_background": "light"
     },
     "output_type": "display_data"
    }
   ],
   "source": [
    "search_results_filtered.pub_year.where(search_results_filtered.pub_year > 2015).value_counts().dropna().astype(int).sort_values().plot(kind='bar', color=(0.2, 0.4, 0.6, 0.6))\n",
    "                                                                                                                  "
   ]
  },
  {
   "cell_type": "markdown",
   "id": "acute-treasure",
   "metadata": {},
   "source": [
    "The largest number is under 1,000. This is not that bad especially if a larger percentage turn out to be relevant but unreported publications. \n",
    "\n",
    "Some terms may be so strongly associated with a domain that their presence in a publication is a certain indicator of relevance. What if we filter out all of the publications containing the proper noun phrase \"Critical Zone Observator\" (Observatory is shortened to catch plural and singular forms of the word)."
   ]
  },
  {
   "cell_type": "code",
   "execution_count": 93,
   "id": "optional-handle",
   "metadata": {},
   "outputs": [
    {
     "data": {
      "text/plain": [
       "<AxesSubplot:>"
      ]
     },
     "execution_count": 93,
     "metadata": {},
     "output_type": "execute_result"
    },
    {
     "data": {
      "image/png": "[encoded data removed]",
      "text/plain": [
       "<Figure size 432x288 with 1 Axes>"
      ]
     },
     "metadata": {
      "needs_background": "light"
     },
     "output_type": "display_data"
    }
   ],
   "source": [
    "search_results_filtered.pub_year.where(search_results_filtered.query_term.str.contains(\"Critical Zone Observator\")).where(search_results_filtered.pub_year > 2015).value_counts().sort_values().plot(kind='bar', color=(0.2, 0.4, 0.6, 0.6))\n"
   ]
  },
  {
   "cell_type": "code",
   "execution_count": 103,
   "id": "scenic-saturn",
   "metadata": {},
   "outputs": [],
   "source": [
    "summary_data = pd.DataFrame()"
   ]
  },
  {
   "cell_type": "code",
   "execution_count": 104,
   "id": "dressed-refund",
   "metadata": {},
   "outputs": [],
   "source": [
    "summary_data['Reported'] = reported_pubs.pub_year.where(reported_pubs.pub_year > 2015).value_counts()"
   ]
  },
  {
   "cell_type": "code",
   "execution_count": 105,
   "id": "dependent-latter",
   "metadata": {},
   "outputs": [],
   "source": [
    "summary_data['Minimum Unreported'] = search_results_filtered.pub_year.where(search_results_filtered.query_term.str.contains(\"Critical Zone Observator\")).where(search_results_filtered.pub_year > 2015).value_counts()"
   ]
  },
  {
   "cell_type": "code",
   "execution_count": 106,
   "id": "norwegian-oxford",
   "metadata": {},
   "outputs": [],
   "source": [
    "summary_data['Publications Returned'] = search_results_filtered.pub_year.where(search_results_filtered.pub_year > 2015).value_counts()"
   ]
  },
  {
   "cell_type": "code",
   "execution_count": 122,
   "id": "seven-alfred",
   "metadata": {},
   "outputs": [],
   "source": [
    "summary_data['Minimum Percent Unreported'] = ((summary_data['Minimum Unreported']/(summary_data['Reported']+summary_data['Minimum Unreported']))*100).astype(int)"
   ]
  },
  {
   "cell_type": "code",
   "execution_count": 124,
   "id": "eligible-attention",
   "metadata": {},
   "outputs": [],
   "source": [
    "summary_data['Minimum Precision of Alleged False Positives'] = ((summary_data['Minimum Unreported']/summary_data['Publications Returned'])*100).astype(int)"
   ]
  },
  {
   "cell_type": "code",
   "execution_count": 126,
   "id": "recent-norwegian",
   "metadata": {},
   "outputs": [],
   "source": [
    "summary_data.index = summary_data.index.astype(int)"
   ]
  },
  {
   "cell_type": "code",
   "execution_count": 127,
   "id": "amber-observation",
   "metadata": {},
   "outputs": [
    {
     "data": {
      "text/html": [
       "<div>\n",
       "<style scoped>\n",
       "    .dataframe tbody tr th:only-of-type {\n",
       "        vertical-align: middle;\n",
       "    }\n",
       "\n",
       "    .dataframe tbody tr th {\n",
       "        vertical-align: top;\n",
       "    }\n",
       "\n",
       "    .dataframe thead th {\n",
       "        text-align: right;\n",
       "    }\n",
       "</style>\n",
       "<table border=\"1\" class=\"dataframe\">\n",
       "  <thead>\n",
       "    <tr style=\"text-align: right;\">\n",
       "      <th></th>\n",
       "      <th>Reported</th>\n",
       "      <th>Minimum Unreported</th>\n",
       "      <th>Publications Returned</th>\n",
       "      <th>Minimum Percent Unreported</th>\n",
       "      <th>Minimum Precision of Alleged False Positives</th>\n",
       "    </tr>\n",
       "  </thead>\n",
       "  <tbody>\n",
       "    <tr>\n",
       "      <th>2016</th>\n",
       "      <td>128</td>\n",
       "      <td>140</td>\n",
       "      <td>683</td>\n",
       "      <td>52</td>\n",
       "      <td>20</td>\n",
       "    </tr>\n",
       "    <tr>\n",
       "      <th>2017</th>\n",
       "      <td>116</td>\n",
       "      <td>167</td>\n",
       "      <td>746</td>\n",
       "      <td>59</td>\n",
       "      <td>22</td>\n",
       "    </tr>\n",
       "    <tr>\n",
       "      <th>2018</th>\n",
       "      <td>116</td>\n",
       "      <td>229</td>\n",
       "      <td>967</td>\n",
       "      <td>66</td>\n",
       "      <td>23</td>\n",
       "    </tr>\n",
       "    <tr>\n",
       "      <th>2019</th>\n",
       "      <td>96</td>\n",
       "      <td>198</td>\n",
       "      <td>891</td>\n",
       "      <td>67</td>\n",
       "      <td>22</td>\n",
       "    </tr>\n",
       "    <tr>\n",
       "      <th>2020</th>\n",
       "      <td>48</td>\n",
       "      <td>193</td>\n",
       "      <td>863</td>\n",
       "      <td>80</td>\n",
       "      <td>22</td>\n",
       "    </tr>\n",
       "    <tr>\n",
       "      <th>2021</th>\n",
       "      <td>1</td>\n",
       "      <td>169</td>\n",
       "      <td>684</td>\n",
       "      <td>99</td>\n",
       "      <td>24</td>\n",
       "    </tr>\n",
       "  </tbody>\n",
       "</table>\n",
       "</div>"
      ],
      "text/plain": [
       "      Reported  Minimum Unreported  Publications Returned  \\\n",
       "2016       128                 140                    683   \n",
       "2017       116                 167                    746   \n",
       "2018       116                 229                    967   \n",
       "2019        96                 198                    891   \n",
       "2020        48                 193                    863   \n",
       "2021         1                 169                    684   \n",
       "\n",
       "      Minimum Percent Unreported  Minimum Precision of Alleged False Positives  \n",
       "2016                          52                                            20  \n",
       "2017                          59                                            22  \n",
       "2018                          66                                            23  \n",
       "2019                          67                                            22  \n",
       "2020                          80                                            22  \n",
       "2021                          99                                            24  "
      ]
     },
     "execution_count": 127,
     "metadata": {},
     "output_type": "execute_result"
    }
   ],
   "source": [
    "summary_data"
   ]
  },
  {
   "cell_type": "code",
   "execution_count": null,
   "id": "appropriate-soldier",
   "metadata": {},
   "outputs": [],
   "source": []
  }
 ],
 "metadata": {
  "kernelspec": {
   "display_name": "Python 3",
   "language": "python",
   "name": "python3"
  },
  "language_info": {
   "codemirror_mode": {
    "name": "ipython",
    "version": 3
   },
   "file_extension": ".py",
   "mimetype": "text/x-python",
   "name": "python",
   "nbconvert_exporter": "python",
   "pygments_lexer": "ipython3",
   "version": "3.7.10"
  },
  "toc": {
   "base_numbering": 1,
   "nav_menu": {},
   "number_sections": true,
   "sideBar": true,
   "skip_h1_title": false,
   "title_cell": "Table of Contents",
   "title_sidebar": "Contents",
   "toc_cell": false,
   "toc_position": {},
   "toc_section_display": true,
   "toc_window_display": false
  }
 },
 "nbformat": 4,
 "nbformat_minor": 5
}
