{
 "cells": [
  {
   "cell_type": "markdown",
   "id": "correct-public",
   "metadata": {},
   "source": [
    "A common problem in encountered when trying to collect a set of publications from multiple researchers (e.g. a network of researchers working on a similar topic or using a shared facility) is the manual labor required to identify and vet the publications. This process often requires a significant exertion of manual labor and is prone to inconsistent results. A typical work flow in carrying out this task is for one or more people to search for publications (e.g. in Google Scholar) and then manually inspect each one to determine relevance. The search component of this process can be automated but, depending on the input available (e.g. the search terms used in the query), it may return a significant number of false positives. The manual labor needed to vet each publication is still too high to be practical. Two questions that will be explored below are: How accurate are the automated searchers? and Can the manual labor needed to vet the publications be reduced?\n",
    "\n",
    "To explore these questions we will use a set of publications from the Critical Zone Observatory (CZO) website (https://czo-archive.criticalzone.org/reynolds/publications/). The DOIs for the publications were scraped from the sight and used to harvest clean publication records from Dimensions. It is assumed that these publications represent a gold standard dataset that can be used to test other search strategies against. "
   ]
  },
  {
   "cell_type": "markdown",
   "id": "requested-artist",
   "metadata": {},
   "source": [
    "To test the quality of our automated search results we collected a list of known grant award numbers related to the CZO network and used these to harvest records from Dimensions. Lets compare the results."
   ]
  },
  {
   "cell_type": "code",
   "execution_count": 1,
   "id": "close-productivity",
   "metadata": {},
   "outputs": [],
   "source": [
    "import csv, fasttext, os, random\n",
    "import matplotlib.pyplot as plt\n",
    "import numpy as np\n",
    "import pandas as pd\n",
    "from IPython.display import Markdown, display\n",
    "from matplotlib_venn import venn2, venn2_circles"
   ]
  },
  {
   "cell_type": "code",
   "execution_count": 2,
   "id": "binary-final",
   "metadata": {},
   "outputs": [],
   "source": [
    "def plot_venn(array_one, array_two, label_one, label_two):\n",
    "    set1 = set(array_one)\n",
    "    set2 = set(array_two)\n",
    "\n",
    "    print(\"Total: {}\".format(len(set1.difference(set2)) + len(set2.difference(set1)) + len(set1.intersection(set2))))\n",
    "\n",
    "    plt.figure(figsize=(6,4))\n",
    "    v = venn2(subsets = (len(set1.difference(set2)),\n",
    "                         len(set2.difference(set1)),\n",
    "                         len(set1.intersection(set2))), set_labels = (label_one, label_two))\n",
    "           \n",
    "    c = venn2_circles(subsets = (len(set1.difference(set2)),\n",
    "                                 len(set2.difference(set1)),\n",
    "                                 len(set1.intersection(set2))), linestyle='solid')\n",
    "\n",
    "    plt.show()\n",
    "\n",
    "def printmd(string):\n",
    "    display(Markdown(string))"
   ]
  },
  {
   "cell_type": "markdown",
   "id": "thick-hudson",
   "metadata": {},
   "source": [
    "### Compare the two datasets for overlap"
   ]
  },
  {
   "cell_type": "code",
   "execution_count": 5,
   "id": "abandoned-canon",
   "metadata": {},
   "outputs": [],
   "source": [
    "# Load the reported publicaitons\n",
    "reported_pubs = pd.read_csv('data/reported_publications.csv')\n",
    "\n",
    "# Load the publicaitions harvested from querying Dimensions\n",
    "\n",
    "search_results = pd.read_csv('data/search_results.csv')"
   ]
  },
  {
   "cell_type": "code",
   "execution_count": 6,
   "id": "manufactured-harvard",
   "metadata": {},
   "outputs": [
    {
     "name": "stdout",
     "output_type": "stream",
     "text": [
      "Total: 13100\n"
     ]
    },
    {
     "data": {
      "image/png": "[encoded data removed]",
      "text/plain": [
       "<Figure size 432x288 with 1 Axes>"
      ]
     },
     "metadata": {},
     "output_type": "display_data"
    }
   ],
   "source": [
    "plot_venn(reported_pubs['doi'], search_results['doi'], 'Reported Publication', 'Search Results')"
   ]
  },
  {
   "cell_type": "markdown",
   "id": "attached-advertising",
   "metadata": {},
   "source": [
    "Assuming the 'From DOIs' set is both complete and accurate (it has perfect precision and recall), the precision and recall scores for our automated query would be:"
   ]
  },
  {
   "cell_type": "code",
   "execution_count": 7,
   "id": "abroad-handy",
   "metadata": {},
   "outputs": [
    {
     "name": "stdout",
     "output_type": "stream",
     "text": [
      "Precision = 0.04538962069512776\n",
      "Recall = 0.5345794392523364\n"
     ]
    }
   ],
   "source": [
    "print('Precision = {}'.format(572/(12030+572)))\n",
    "print('Recall = {}'.format(572/(498+572)))"
   ]
  },
  {
   "cell_type": "markdown",
   "id": "ranking-number",
   "metadata": {},
   "source": [
    "Not great. As expected there are many false positives. At this point it may be worthwhile to question the completeness of the DOI dataset. It is clear that all of the publications harvested from the CZO site are relevant but it may be a false assumption to think that the set is also complete. We know little about the process through which this list came to exist. To improve recall, we can add more terms to the query, things like site names, grid ids, and rrids come to mind but our already poor precision score would decrease further. Perhaps we can build a training set from the CZO data to train a classifier that we can use to eliminate many of the false positives from our automated query. To do so we can label each publication as 'relevant' or 'not-relevant'. We have 1070 'relevant' publications to start with. We need probably 10 times that number of 'not-relevant' publications, since the set of 'not-relevant' publications needs to include learning examples from all other domains except the earth sciences."
   ]
  },
  {
   "cell_type": "markdown",
   "id": "small-hamburg",
   "metadata": {},
   "source": [
    "Lets load a data set of publications gathered from searching random words with strong associations to other domains."
   ]
  },
  {
   "cell_type": "code",
   "execution_count": 25,
   "id": "smart-semiconductor",
   "metadata": {
    "scrolled": true
   },
   "outputs": [
    {
     "data": {
      "text/plain": [
       "(13405, 20)"
      ]
     },
     "execution_count": 25,
     "metadata": {},
     "output_type": "execute_result"
    }
   ],
   "source": [
    "# Load the data harvested from terms with strong associations to other domains\n",
    "not_relevant_pubs = pd.read_csv('data/train/training_not_relevant.csv', delimiter=',')\n",
    "not_relevant_pubs.shape"
   ]
  },
  {
   "cell_type": "markdown",
   "id": "starting-utilization",
   "metadata": {},
   "source": [
    "The concepts column is what we will use as features for training and prediction. So let's remove any rows where that column is empty then write the concepts tokens to a file adding a 'non-relevant' label in the process."
   ]
  },
  {
   "cell_type": "code",
   "execution_count": 26,
   "id": "regulated-radiation",
   "metadata": {},
   "outputs": [],
   "source": [
    "def training_data_from_df(df, label, out_file):\n",
    "    df['concepts'].replace('', np.nan, inplace=True)\n",
    "    df.dropna(subset=['concepts'], inplace=True)\n",
    "    np.savetxt('temp.txt', df.concepts, fmt='%s')\n",
    "    features = open('temp.txt', \"r\")\n",
    "    with open('{}'.format(out_file), \"w\") as out:\n",
    "        for line in features.readlines():\n",
    "            out.write('__label__{} {}'.format(label, line.replace(\"['\", \"'\").replace(\"']\", \"'\").replace(\", \", \" \")))\n",
    "    os.remove('temp.txt')  "
   ]
  },
  {
   "cell_type": "code",
   "execution_count": 21,
   "id": "comic-morning",
   "metadata": {},
   "outputs": [],
   "source": [
    "training_data_from_df(reported_pubs, 'relevant', 'data/train/train_relevant.txt')\n",
    "training_data_from_df(not_relevant_pubs, 'not_relevant', 'data/train/train_not_relevant.txt')"
   ]
  },
  {
   "cell_type": "code",
   "execution_count": 22,
   "id": "original-singer",
   "metadata": {},
   "outputs": [],
   "source": [
    "def merge_files(file_one, file_two, out_file):\n",
    "    one = open(file_one, \"r\")\n",
    "    two = open(file_two, \"r\")\n",
    "    with open('{}'.format(out_file), \"w\") as out:\n",
    "        for line in one.readlines():\n",
    "            out.write(line)\n",
    "        for line in two.readlines():\n",
    "            out.write(line)    "
   ]
  },
  {
   "cell_type": "code",
   "execution_count": 23,
   "id": "minimal-domestic",
   "metadata": {},
   "outputs": [],
   "source": [
    "merge_files('data/train/train_relevant.txt', 'data/train/train_not_relevant.txt', 'data/train/train_full.txt')"
   ]
  },
  {
   "cell_type": "markdown",
   "id": "ethical-surge",
   "metadata": {},
   "source": [
    "Now that we have an initial dataset to train our model, lets break it into training and validation sets and give it a try."
   ]
  },
  {
   "cell_type": "code",
   "execution_count": 24,
   "id": "completed-beginning",
   "metadata": {},
   "outputs": [
    {
     "name": "stdout",
     "output_type": "stream",
     "text": [
      "2139\n"
     ]
    }
   ],
   "source": [
    "with open('data/train/train_full.txt', 'r') as f:\n",
    "    data = f.read().split('\\n')\n",
    "    print(len(data))\n",
    "\n",
    "random.shuffle(data)\n",
    "\n",
    "with open('data/train/train_full.train', 'w') as train:\n",
    "    for i in data[1400:]:\n",
    "        train.write(i+'\\n')\n",
    "\n",
    "with open('data/train/train_full.valid', 'w') as valid:\n",
    "    for i in data[:1400]:\n",
    "        valid.write(i+'\\n')"
   ]
  },
  {
   "cell_type": "code",
   "execution_count": 35,
   "id": "russian-basin",
   "metadata": {},
   "outputs": [],
   "source": [
    "model = fasttext.train_supervised(input='output/earth-sceinces.train')"
   ]
  },
  {
   "cell_type": "code",
   "execution_count": 36,
   "id": "outstanding-health",
   "metadata": {},
   "outputs": [
    {
     "data": {
      "text/plain": [
       "(1400, 0.9807142857142858, 0.9807142857142858)"
      ]
     },
     "execution_count": 36,
     "metadata": {},
     "output_type": "execute_result"
    }
   ],
   "source": [
    "model.test('output/earth-sceinces.valid')"
   ]
  },
  {
   "cell_type": "markdown",
   "id": "insured-championship",
   "metadata": {},
   "source": [
    "The outputs are the total number of publications (12,439), precision, and recall. Precision and recall are the same since there is only one label. With multiple labels, they would likely diverge. 98% without any effort to improve the training data or the model is a great start and a confirmation that this is an ideal candidate for machine learning. This means we could use this model to remove 98 out of 100 false positives or, put another way, we could reduce the manual labor needed by 98%. The cost is that we lose 2% of everything we label 'not-relevant', but we should keep in mind that we can also expand our search terms since we will be less concerned about false positives. In other words we can cast the net much wider in our query strategy, so recall will be higher to begin with. \n",
    "\n",
    "We should look at this as a proof of concept. It needs work before we can apply it in all instances where we need to collect a set of publications related to a shared facility or research network, but it is a promising start."
   ]
  },
  {
   "cell_type": "code",
   "execution_count": 37,
   "id": "victorian-bouquet",
   "metadata": {},
   "outputs": [],
   "source": [
    "# Use all the training data we have\n",
    "with open('output/earth-sceinces.final', 'w') as final:\n",
    "    for i in data:\n",
    "        final.write(i+'\\n')\n",
    "\n",
    "final_model = fasttext.train_supervised(input='output/earth-sceinces.final')"
   ]
  },
  {
   "cell_type": "code",
   "execution_count": 38,
   "id": "accomplished-module",
   "metadata": {},
   "outputs": [],
   "source": [
    "def predict_relevance(features):\n",
    "    return str(final_model.predict(features)[0]).replace(\"'__label__\", '').replace(\"',\", '').replace('(', '').replace(')', '')"
   ]
  },
  {
   "cell_type": "code",
   "execution_count": 39,
   "id": "forbidden-accuracy",
   "metadata": {},
   "outputs": [],
   "source": [
    "from_award_numbers['relevance'] = from_award_numbers.apply(lambda row : predict_relevance(str(row['concepts']).replace(\"['\", \"'\").replace(\"']\", \"'\").replace(\", \", \" \")), axis = 1)"
   ]
  },
  {
   "cell_type": "code",
   "execution_count": 40,
   "id": "clear-strip",
   "metadata": {},
   "outputs": [
    {
     "data": {
      "text/html": [
       "<div>\n",
       "<style scoped>\n",
       "    .dataframe tbody tr th:only-of-type {\n",
       "        vertical-align: middle;\n",
       "    }\n",
       "\n",
       "    .dataframe tbody tr th {\n",
       "        vertical-align: top;\n",
       "    }\n",
       "\n",
       "    .dataframe thead th {\n",
       "        text-align: right;\n",
       "    }\n",
       "</style>\n",
       "<table border=\"1\" class=\"dataframe\">\n",
       "  <thead>\n",
       "    <tr style=\"text-align: right;\">\n",
       "      <th></th>\n",
       "      <th>title</th>\n",
       "      <th>author_list</th>\n",
       "      <th>dimensions_id</th>\n",
       "      <th>doi</th>\n",
       "      <th>doi_url</th>\n",
       "      <th>publisher</th>\n",
       "      <th>journal</th>\n",
       "      <th>volume</th>\n",
       "      <th>issue</th>\n",
       "      <th>pages</th>\n",
       "      <th>pub_year</th>\n",
       "      <th>concepts</th>\n",
       "      <th>provenance</th>\n",
       "      <th>award_number</th>\n",
       "      <th>award_date</th>\n",
       "      <th>pub_harvested_date</th>\n",
       "      <th>relevance</th>\n",
       "    </tr>\n",
       "  </thead>\n",
       "  <tbody>\n",
       "    <tr>\n",
       "      <th>0</th>\n",
       "      <td>Publishers' International ISBN Directory 2015</td>\n",
       "      <td>NaN</td>\n",
       "      <td>pub.1137290625</td>\n",
       "      <td>10.1515/9783110337358</td>\n",
       "      <td>https://doi.org/10.1515/9783110337358</td>\n",
       "      <td>De Gruyter</td>\n",
       "      <td>NaN</td>\n",
       "      <td>NaN</td>\n",
       "      <td>NaN</td>\n",
       "      <td>NaN</td>\n",
       "      <td>2021.0</td>\n",
       "      <td>[]</td>\n",
       "      <td>dimensions</td>\n",
       "      <td>636043</td>\n",
       "      <td>6/1/2007</td>\n",
       "      <td>18/06/2021 12:09:09</td>\n",
       "      <td>non-relevant</td>\n",
       "    </tr>\n",
       "    <tr>\n",
       "      <th>1</th>\n",
       "      <td>コルシカ語方言学の諸問題</td>\n",
       "      <td>NaN</td>\n",
       "      <td>pub.1137226545</td>\n",
       "      <td>10.15083/00080119</td>\n",
       "      <td>https://doi.org/10.15083/00080119</td>\n",
       "      <td>NaN</td>\n",
       "      <td>NaN</td>\n",
       "      <td>27</td>\n",
       "      <td>NaN</td>\n",
       "      <td>117-130</td>\n",
       "      <td>2020.0</td>\n",
       "      <td>NaN</td>\n",
       "      <td>dimensions</td>\n",
       "      <td>636043</td>\n",
       "      <td>6/1/2007</td>\n",
       "      <td>18/06/2021 12:09:09</td>\n",
       "      <td>non-relevant</td>\n",
       "    </tr>\n",
       "    <tr>\n",
       "      <th>2</th>\n",
       "      <td>『鏡子の家』における日常性の問題</td>\n",
       "      <td>NaN</td>\n",
       "      <td>pub.1137224479</td>\n",
       "      <td>10.15083/00080116</td>\n",
       "      <td>https://doi.org/10.15083/00080116</td>\n",
       "      <td>NaN</td>\n",
       "      <td>NaN</td>\n",
       "      <td>27</td>\n",
       "      <td>NaN</td>\n",
       "      <td>71-89</td>\n",
       "      <td>2020.0</td>\n",
       "      <td>NaN</td>\n",
       "      <td>dimensions</td>\n",
       "      <td>636043</td>\n",
       "      <td>6/1/2007</td>\n",
       "      <td>18/06/2021 12:09:09</td>\n",
       "      <td>non-relevant</td>\n",
       "    </tr>\n",
       "    <tr>\n",
       "      <th>3</th>\n",
       "      <td>Occurrence of marine sponge Chelonaplysilla de...</td>\n",
       "      <td>NaN</td>\n",
       "      <td>pub.1114352198</td>\n",
       "      <td>10.1101/636043</td>\n",
       "      <td>https://doi.org/10.1101/636043</td>\n",
       "      <td>Cold Spring Harbor Laboratory</td>\n",
       "      <td>{'id': 'jour.1293558', 'title': 'bioRxiv'}</td>\n",
       "      <td>NaN</td>\n",
       "      <td>NaN</td>\n",
       "      <td>636043</td>\n",
       "      <td>2019.0</td>\n",
       "      <td>['Nicobar Islands', 'Indian Ocean', 'biodivers...</td>\n",
       "      <td>dimensions</td>\n",
       "      <td>636043</td>\n",
       "      <td>6/1/2007</td>\n",
       "      <td>18/06/2021 12:09:09</td>\n",
       "      <td>non-relevant</td>\n",
       "    </tr>\n",
       "    <tr>\n",
       "      <th>4</th>\n",
       "      <td>Diversity and preserved shell coloration patte...</td>\n",
       "      <td>NaN</td>\n",
       "      <td>pub.1104259488</td>\n",
       "      <td>10.1017/jpa.2017.153</td>\n",
       "      <td>https://doi.org/10.1017/jpa.2017.153</td>\n",
       "      <td>Cambridge University Press (CUP)</td>\n",
       "      <td>{'id': 'jour.1026144', 'title': 'Journal of Pa...</td>\n",
       "      <td>92</td>\n",
       "      <td>5</td>\n",
       "      <td>804-837</td>\n",
       "      <td>2018.0</td>\n",
       "      <td>['coloration patterns', 'Gatun Formation', 'fu...</td>\n",
       "      <td>dimensions</td>\n",
       "      <td>636043</td>\n",
       "      <td>6/1/2007</td>\n",
       "      <td>18/06/2021 12:09:09</td>\n",
       "      <td>non-relevant</td>\n",
       "    </tr>\n",
       "  </tbody>\n",
       "</table>\n",
       "</div>"
      ],
      "text/plain": [
       "                                               title  author_list  \\\n",
       "0      Publishers' International ISBN Directory 2015          NaN   \n",
       "1                                       コルシカ語方言学の諸問題          NaN   \n",
       "2                                   『鏡子の家』における日常性の問題          NaN   \n",
       "3  Occurrence of marine sponge Chelonaplysilla de...          NaN   \n",
       "4  Diversity and preserved shell coloration patte...          NaN   \n",
       "\n",
       "    dimensions_id                    doi  \\\n",
       "0  pub.1137290625  10.1515/9783110337358   \n",
       "1  pub.1137226545      10.15083/00080119   \n",
       "2  pub.1137224479      10.15083/00080116   \n",
       "3  pub.1114352198         10.1101/636043   \n",
       "4  pub.1104259488   10.1017/jpa.2017.153   \n",
       "\n",
       "                                 doi_url                         publisher  \\\n",
       "0  https://doi.org/10.1515/9783110337358                        De Gruyter   \n",
       "1      https://doi.org/10.15083/00080119                               NaN   \n",
       "2      https://doi.org/10.15083/00080116                               NaN   \n",
       "3         https://doi.org/10.1101/636043     Cold Spring Harbor Laboratory   \n",
       "4   https://doi.org/10.1017/jpa.2017.153  Cambridge University Press (CUP)   \n",
       "\n",
       "                                             journal volume issue    pages  \\\n",
       "0                                                NaN    NaN   NaN      NaN   \n",
       "1                                                NaN     27   NaN  117-130   \n",
       "2                                                NaN     27   NaN    71-89   \n",
       "3         {'id': 'jour.1293558', 'title': 'bioRxiv'}    NaN   NaN   636043   \n",
       "4  {'id': 'jour.1026144', 'title': 'Journal of Pa...     92     5  804-837   \n",
       "\n",
       "   pub_year                                           concepts  provenance  \\\n",
       "0    2021.0                                                 []  dimensions   \n",
       "1    2020.0                                                NaN  dimensions   \n",
       "2    2020.0                                                NaN  dimensions   \n",
       "3    2019.0  ['Nicobar Islands', 'Indian Ocean', 'biodivers...  dimensions   \n",
       "4    2018.0  ['coloration patterns', 'Gatun Formation', 'fu...  dimensions   \n",
       "\n",
       "   award_number award_date   pub_harvested_date     relevance  \n",
       "0        636043   6/1/2007  18/06/2021 12:09:09  non-relevant  \n",
       "1        636043   6/1/2007  18/06/2021 12:09:09  non-relevant  \n",
       "2        636043   6/1/2007  18/06/2021 12:09:09  non-relevant  \n",
       "3        636043   6/1/2007  18/06/2021 12:09:09  non-relevant  \n",
       "4        636043   6/1/2007  18/06/2021 12:09:09  non-relevant  "
      ]
     },
     "execution_count": 40,
     "metadata": {},
     "output_type": "execute_result"
    }
   ],
   "source": [
    "from_award_numbers.head()\n"
   ]
  },
  {
   "cell_type": "code",
   "execution_count": 41,
   "id": "twelve-clause",
   "metadata": {},
   "outputs": [],
   "source": [
    "# Remove non-relevant publicaitons from the dataframe\n",
    "df_filtered = from_award_numbers[~from_award_numbers.relevance.str.contains('non-relevant')]"
   ]
  },
  {
   "cell_type": "code",
   "execution_count": 42,
   "id": "induced-affairs",
   "metadata": {},
   "outputs": [
    {
     "data": {
      "text/html": [
       "<div>\n",
       "<style scoped>\n",
       "    .dataframe tbody tr th:only-of-type {\n",
       "        vertical-align: middle;\n",
       "    }\n",
       "\n",
       "    .dataframe tbody tr th {\n",
       "        vertical-align: top;\n",
       "    }\n",
       "\n",
       "    .dataframe thead th {\n",
       "        text-align: right;\n",
       "    }\n",
       "</style>\n",
       "<table border=\"1\" class=\"dataframe\">\n",
       "  <thead>\n",
       "    <tr style=\"text-align: right;\">\n",
       "      <th></th>\n",
       "      <th>title</th>\n",
       "      <th>author_list</th>\n",
       "      <th>dimensions_id</th>\n",
       "      <th>doi</th>\n",
       "      <th>doi_url</th>\n",
       "      <th>publisher</th>\n",
       "      <th>journal</th>\n",
       "      <th>volume</th>\n",
       "      <th>issue</th>\n",
       "      <th>pages</th>\n",
       "      <th>pub_year</th>\n",
       "      <th>concepts</th>\n",
       "      <th>provenance</th>\n",
       "      <th>award_number</th>\n",
       "      <th>award_date</th>\n",
       "      <th>pub_harvested_date</th>\n",
       "      <th>relevance</th>\n",
       "    </tr>\n",
       "  </thead>\n",
       "  <tbody>\n",
       "    <tr>\n",
       "      <th>9</th>\n",
       "      <td>Effect of Salt Concentrations on the Hydraulic...</td>\n",
       "      <td>NaN</td>\n",
       "      <td>pub.1135188020</td>\n",
       "      <td>10.5109/4707</td>\n",
       "      <td>https://doi.org/10.5109/4707</td>\n",
       "      <td>NaN</td>\n",
       "      <td>{'id': 'jour.1222612', 'title': 'Journal of th...</td>\n",
       "      <td>51</td>\n",
       "      <td>1</td>\n",
       "      <td>37-43</td>\n",
       "      <td>2006.0</td>\n",
       "      <td>['basalt soils', 'hydraulic conductivity', 'so...</td>\n",
       "      <td>dimensions</td>\n",
       "      <td>636043</td>\n",
       "      <td>6/1/2007</td>\n",
       "      <td>18/06/2021 12:09:09</td>\n",
       "      <td>relevant</td>\n",
       "    </tr>\n",
       "    <tr>\n",
       "      <th>48</th>\n",
       "      <td>Soil moisture response to snowmelt timing in m...</td>\n",
       "      <td>NaN</td>\n",
       "      <td>pub.1003809848</td>\n",
       "      <td>10.1002/hyp.10400</td>\n",
       "      <td>https://doi.org/10.1002/hyp.10400</td>\n",
       "      <td>Wiley</td>\n",
       "      <td>{'id': 'jour.1043737', 'title': 'Hydrological ...</td>\n",
       "      <td>29</td>\n",
       "      <td>12</td>\n",
       "      <td>2782-2798</td>\n",
       "      <td>2014.0</td>\n",
       "      <td>['earlier snow disappearance', 'soil moisture ...</td>\n",
       "      <td>dimensions</td>\n",
       "      <td>724958</td>\n",
       "      <td>9/1/2009</td>\n",
       "      <td>18/06/2021 12:09:09</td>\n",
       "      <td>relevant</td>\n",
       "    </tr>\n",
       "    <tr>\n",
       "      <th>50</th>\n",
       "      <td>LiDAR‐derived snowpack data sets from mixed co...</td>\n",
       "      <td>NaN</td>\n",
       "      <td>pub.1023757495</td>\n",
       "      <td>10.1002/2013wr013935</td>\n",
       "      <td>https://doi.org/10.1002/2013wr013935</td>\n",
       "      <td>American Geophysical Union (AGU)</td>\n",
       "      <td>{'id': 'jour.1081604', 'title': 'Water Resourc...</td>\n",
       "      <td>50</td>\n",
       "      <td>3</td>\n",
       "      <td>2749-2755</td>\n",
       "      <td>2014.0</td>\n",
       "      <td>['Critical Zone Observatory', 'western United ...</td>\n",
       "      <td>dimensions</td>\n",
       "      <td>724958</td>\n",
       "      <td>9/1/2009</td>\n",
       "      <td>18/06/2021 12:09:09</td>\n",
       "      <td>relevant</td>\n",
       "    </tr>\n",
       "    <tr>\n",
       "      <th>72</th>\n",
       "      <td>Soil moisture response to snowmelt timing in m...</td>\n",
       "      <td>NaN</td>\n",
       "      <td>pub.1003809848</td>\n",
       "      <td>10.1002/hyp.10400</td>\n",
       "      <td>https://doi.org/10.1002/hyp.10400</td>\n",
       "      <td>Wiley</td>\n",
       "      <td>{'id': 'jour.1043737', 'title': 'Hydrological ...</td>\n",
       "      <td>29</td>\n",
       "      <td>12</td>\n",
       "      <td>2782-2798</td>\n",
       "      <td>2014.0</td>\n",
       "      <td>['earlier snow disappearance', 'soil moisture ...</td>\n",
       "      <td>dimensions</td>\n",
       "      <td>724960</td>\n",
       "      <td>9/15/2007</td>\n",
       "      <td>18/06/2021 12:09:10</td>\n",
       "      <td>relevant</td>\n",
       "    </tr>\n",
       "    <tr>\n",
       "      <th>73</th>\n",
       "      <td>LiDAR‐derived snowpack data sets from mixed co...</td>\n",
       "      <td>NaN</td>\n",
       "      <td>pub.1023757495</td>\n",
       "      <td>10.1002/2013wr013935</td>\n",
       "      <td>https://doi.org/10.1002/2013wr013935</td>\n",
       "      <td>American Geophysical Union (AGU)</td>\n",
       "      <td>{'id': 'jour.1081604', 'title': 'Water Resourc...</td>\n",
       "      <td>50</td>\n",
       "      <td>3</td>\n",
       "      <td>2749-2755</td>\n",
       "      <td>2014.0</td>\n",
       "      <td>['Critical Zone Observatory', 'western United ...</td>\n",
       "      <td>dimensions</td>\n",
       "      <td>724960</td>\n",
       "      <td>9/15/2007</td>\n",
       "      <td>18/06/2021 12:09:10</td>\n",
       "      <td>relevant</td>\n",
       "    </tr>\n",
       "  </tbody>\n",
       "</table>\n",
       "</div>"
      ],
      "text/plain": [
       "                                                title  author_list  \\\n",
       "9   Effect of Salt Concentrations on the Hydraulic...          NaN   \n",
       "48  Soil moisture response to snowmelt timing in m...          NaN   \n",
       "50  LiDAR‐derived snowpack data sets from mixed co...          NaN   \n",
       "72  Soil moisture response to snowmelt timing in m...          NaN   \n",
       "73  LiDAR‐derived snowpack data sets from mixed co...          NaN   \n",
       "\n",
       "     dimensions_id                   doi  \\\n",
       "9   pub.1135188020          10.5109/4707   \n",
       "48  pub.1003809848     10.1002/hyp.10400   \n",
       "50  pub.1023757495  10.1002/2013wr013935   \n",
       "72  pub.1003809848     10.1002/hyp.10400   \n",
       "73  pub.1023757495  10.1002/2013wr013935   \n",
       "\n",
       "                                 doi_url                         publisher  \\\n",
       "9           https://doi.org/10.5109/4707                               NaN   \n",
       "48     https://doi.org/10.1002/hyp.10400                             Wiley   \n",
       "50  https://doi.org/10.1002/2013wr013935  American Geophysical Union (AGU)   \n",
       "72     https://doi.org/10.1002/hyp.10400                             Wiley   \n",
       "73  https://doi.org/10.1002/2013wr013935  American Geophysical Union (AGU)   \n",
       "\n",
       "                                              journal volume issue      pages  \\\n",
       "9   {'id': 'jour.1222612', 'title': 'Journal of th...     51     1      37-43   \n",
       "48  {'id': 'jour.1043737', 'title': 'Hydrological ...     29    12  2782-2798   \n",
       "50  {'id': 'jour.1081604', 'title': 'Water Resourc...     50     3  2749-2755   \n",
       "72  {'id': 'jour.1043737', 'title': 'Hydrological ...     29    12  2782-2798   \n",
       "73  {'id': 'jour.1081604', 'title': 'Water Resourc...     50     3  2749-2755   \n",
       "\n",
       "    pub_year                                           concepts  provenance  \\\n",
       "9     2006.0  ['basalt soils', 'hydraulic conductivity', 'so...  dimensions   \n",
       "48    2014.0  ['earlier snow disappearance', 'soil moisture ...  dimensions   \n",
       "50    2014.0  ['Critical Zone Observatory', 'western United ...  dimensions   \n",
       "72    2014.0  ['earlier snow disappearance', 'soil moisture ...  dimensions   \n",
       "73    2014.0  ['Critical Zone Observatory', 'western United ...  dimensions   \n",
       "\n",
       "    award_number award_date   pub_harvested_date relevance  \n",
       "9         636043   6/1/2007  18/06/2021 12:09:09  relevant  \n",
       "48        724958   9/1/2009  18/06/2021 12:09:09  relevant  \n",
       "50        724958   9/1/2009  18/06/2021 12:09:09  relevant  \n",
       "72        724960  9/15/2007  18/06/2021 12:09:10  relevant  \n",
       "73        724960  9/15/2007  18/06/2021 12:09:10  relevant  "
      ]
     },
     "execution_count": 42,
     "metadata": {},
     "output_type": "execute_result"
    }
   ],
   "source": [
    "df_filtered.head()"
   ]
  },
  {
   "cell_type": "markdown",
   "id": "nasty-authority",
   "metadata": {},
   "source": [
    "Now lets plot our venn diagram again to see how well we did."
   ]
  },
  {
   "cell_type": "code",
   "execution_count": 43,
   "id": "peaceful-singapore",
   "metadata": {},
   "outputs": [
    {
     "name": "stdout",
     "output_type": "stream",
     "text": [
      "Total: 1512\n"
     ]
    },
    {
     "data": {
      "image/png": "[encoded data removed]",
      "text/plain": [
       "<Figure size 432x288 with 1 Axes>"
      ]
     },
     "metadata": {},
     "output_type": "display_data"
    }
   ],
   "source": [
    "plot_venn(from_dois['doi'], df_filtered['doi'], 'From DOIs', 'From Award Numbers (After Prediction)')"
   ]
  },
  {
   "cell_type": "markdown",
   "id": "portuguese-laundry",
   "metadata": {},
   "source": [
    "Lets compare this to our initial results:"
   ]
  },
  {
   "cell_type": "code",
   "execution_count": 44,
   "id": "fancy-citation",
   "metadata": {},
   "outputs": [
    {
     "name": "stdout",
     "output_type": "stream",
     "text": [
      "Precision went from 12% to 44%\n",
      "Recall went from 35% to 32%\n"
     ]
    }
   ],
   "source": [
    "print('Precision went from {}% to {}%'.format(round((373/(373+2851))*100),round((346/(346+438)*100))))\n",
    "print('Recall went from {}% to {}%'.format(round((373/(373+697))*100),round((346/(346+723)*100))))"
   ]
  },
  {
   "cell_type": "markdown",
   "id": "diverse-hypothetical",
   "metadata": {},
   "source": [
    "We must also bear in mind though that 'From DOIs' is not a gold standard data set after all. It is likely perfectly precise but does not have perfect recall. Meaning there is a chance that the green area in the Venn diagram above contains relevant publications. If so, the CZO network is missing an opportunity to report all of its research. Lets export these and take a look. "
   ]
  },
  {
   "cell_type": "code",
   "execution_count": 45,
   "id": "fleet-longer",
   "metadata": {},
   "outputs": [
    {
     "name": "stdout",
     "output_type": "stream",
     "text": [
      "443\n"
     ]
    }
   ],
   "source": [
    "final_doi_set = set(df_filtered['doi']) - set(from_dois['doi'])\n",
    "print(len(final_doi_set))"
   ]
  },
  {
   "cell_type": "code",
   "execution_count": 47,
   "id": "falling-enforcement",
   "metadata": {},
   "outputs": [
    {
     "name": "stdout",
     "output_type": "stream",
     "text": [
      "443\n"
     ]
    }
   ],
   "source": [
    "w = csv.writer(open(\"output/non-relevant-dois.csv\",'w'))\n",
    "w.writerow(['doi'])\n",
    "print(len(final_doi_set))\n",
    "for i in final_doi_set:\n",
    "        w.writerow([i])"
   ]
  },
  {
   "cell_type": "code",
   "execution_count": null,
   "id": "tired-prerequisite",
   "metadata": {},
   "outputs": [],
   "source": []
  }
 ],
 "metadata": {
  "kernelspec": {
   "display_name": "Python 3",
   "language": "python",
   "name": "python3"
  },
  "language_info": {
   "codemirror_mode": {
    "name": "ipython",
    "version": 3
   },
   "file_extension": ".py",
   "mimetype": "text/x-python",
   "name": "python",
   "nbconvert_exporter": "python",
   "pygments_lexer": "ipython3",
   "version": "3.7.10"
  },
  "toc": {
   "base_numbering": 1,
   "nav_menu": {},
   "number_sections": true,
   "sideBar": true,
   "skip_h1_title": false,
   "title_cell": "Table of Contents",
   "title_sidebar": "Contents",
   "toc_cell": false,
   "toc_position": {},
   "toc_section_display": true,
   "toc_window_display": false
  }
 },
 "nbformat": 4,
 "nbformat_minor": 5
}
